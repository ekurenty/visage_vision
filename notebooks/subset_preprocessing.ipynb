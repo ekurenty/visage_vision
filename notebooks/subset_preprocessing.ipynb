{
 "cells": [
  {
   "cell_type": "code",
   "execution_count": 12,
   "metadata": {},
   "outputs": [],
   "source": [
    "import pandas as pd\n",
    "import shutil"
   ]
  },
  {
   "cell_type": "code",
   "execution_count": 3,
   "metadata": {},
   "outputs": [
    {
     "data": {
      "text/html": [
       "<div>\n",
       "<style scoped>\n",
       "    .dataframe tbody tr th:only-of-type {\n",
       "        vertical-align: middle;\n",
       "    }\n",
       "\n",
       "    .dataframe tbody tr th {\n",
       "        vertical-align: top;\n",
       "    }\n",
       "\n",
       "    .dataframe thead th {\n",
       "        text-align: right;\n",
       "    }\n",
       "</style>\n",
       "<table border=\"1\" class=\"dataframe\">\n",
       "  <thead>\n",
       "    <tr style=\"text-align: right;\">\n",
       "      <th></th>\n",
       "      <th>Unnamed: 0.1</th>\n",
       "      <th>Unnamed: 0</th>\n",
       "      <th>pth</th>\n",
       "      <th>label</th>\n",
       "      <th>relFCs</th>\n",
       "      <th>new_file_name</th>\n",
       "      <th>ext</th>\n",
       "      <th>new_file_name.1</th>\n",
       "    </tr>\n",
       "  </thead>\n",
       "  <tbody>\n",
       "    <tr>\n",
       "      <th>0</th>\n",
       "      <td>0</td>\n",
       "      <td>0</td>\n",
       "      <td>anger/image0000006.jpg</td>\n",
       "      <td>surprise</td>\n",
       "      <td>0.873142</td>\n",
       "      <td>surprise0</td>\n",
       "      <td>.jpg</td>\n",
       "      <td>surprise0.jpg</td>\n",
       "    </tr>\n",
       "    <tr>\n",
       "      <th>1</th>\n",
       "      <td>1</td>\n",
       "      <td>1</td>\n",
       "      <td>anger/image0000060.jpg</td>\n",
       "      <td>anger</td>\n",
       "      <td>0.852311</td>\n",
       "      <td>anger0</td>\n",
       "      <td>.jpg</td>\n",
       "      <td>anger0.jpg</td>\n",
       "    </tr>\n",
       "    <tr>\n",
       "      <th>2</th>\n",
       "      <td>2</td>\n",
       "      <td>2</td>\n",
       "      <td>anger/image0000061.jpg</td>\n",
       "      <td>anger</td>\n",
       "      <td>0.800957</td>\n",
       "      <td>anger1</td>\n",
       "      <td>.jpg</td>\n",
       "      <td>anger1.jpg</td>\n",
       "    </tr>\n",
       "    <tr>\n",
       "      <th>3</th>\n",
       "      <td>3</td>\n",
       "      <td>3</td>\n",
       "      <td>anger/image0000066.jpg</td>\n",
       "      <td>disgust</td>\n",
       "      <td>0.843079</td>\n",
       "      <td>disgust0</td>\n",
       "      <td>.jpg</td>\n",
       "      <td>disgust0.jpg</td>\n",
       "    </tr>\n",
       "    <tr>\n",
       "      <th>4</th>\n",
       "      <td>4</td>\n",
       "      <td>4</td>\n",
       "      <td>anger/image0000106.jpg</td>\n",
       "      <td>anger</td>\n",
       "      <td>0.849108</td>\n",
       "      <td>anger2</td>\n",
       "      <td>.jpg</td>\n",
       "      <td>anger2.jpg</td>\n",
       "    </tr>\n",
       "  </tbody>\n",
       "</table>\n",
       "</div>"
      ],
      "text/plain": [
       "   Unnamed: 0.1  Unnamed: 0                     pth     label    relFCs  \\\n",
       "0             0           0  anger/image0000006.jpg  surprise  0.873142   \n",
       "1             1           1  anger/image0000060.jpg     anger  0.852311   \n",
       "2             2           2  anger/image0000061.jpg     anger  0.800957   \n",
       "3             3           3  anger/image0000066.jpg   disgust  0.843079   \n",
       "4             4           4  anger/image0000106.jpg     anger  0.849108   \n",
       "\n",
       "  new_file_name   ext new_file_name.1  \n",
       "0     surprise0  .jpg   surprise0.jpg  \n",
       "1        anger0  .jpg      anger0.jpg  \n",
       "2        anger1  .jpg      anger1.jpg  \n",
       "3      disgust0  .jpg    disgust0.jpg  \n",
       "4        anger2  .jpg      anger2.jpg  "
      ]
     },
     "execution_count": 3,
     "metadata": {},
     "output_type": "execute_result"
    }
   ],
   "source": [
    "new_labels = pd.read_csv('new_labels_1.csv')\n",
    "new_labels.head()"
   ]
  },
  {
   "cell_type": "code",
   "execution_count": 5,
   "metadata": {},
   "outputs": [
    {
     "data": {
      "text/html": [
       "<div>\n",
       "<style scoped>\n",
       "    .dataframe tbody tr th:only-of-type {\n",
       "        vertical-align: middle;\n",
       "    }\n",
       "\n",
       "    .dataframe tbody tr th {\n",
       "        vertical-align: top;\n",
       "    }\n",
       "\n",
       "    .dataframe thead th {\n",
       "        text-align: right;\n",
       "    }\n",
       "</style>\n",
       "<table border=\"1\" class=\"dataframe\">\n",
       "  <thead>\n",
       "    <tr style=\"text-align: right;\">\n",
       "      <th></th>\n",
       "      <th>Unnamed: 0.1</th>\n",
       "      <th>Unnamed: 0</th>\n",
       "      <th>pth</th>\n",
       "      <th>label</th>\n",
       "      <th>relFCs</th>\n",
       "      <th>new_file_name</th>\n",
       "      <th>ext</th>\n",
       "      <th>new_file_name.1</th>\n",
       "    </tr>\n",
       "  </thead>\n",
       "  <tbody>\n",
       "    <tr>\n",
       "      <th>0</th>\n",
       "      <td>0</td>\n",
       "      <td>0</td>\n",
       "      <td>anger/image0000006.jpg</td>\n",
       "      <td>surprise</td>\n",
       "      <td>0.873142</td>\n",
       "      <td>surprise0</td>\n",
       "      <td>.jpg</td>\n",
       "      <td>surprise0.jpg</td>\n",
       "    </tr>\n",
       "    <tr>\n",
       "      <th>1</th>\n",
       "      <td>1</td>\n",
       "      <td>1</td>\n",
       "      <td>anger/image0000060.jpg</td>\n",
       "      <td>anger</td>\n",
       "      <td>0.852311</td>\n",
       "      <td>anger0</td>\n",
       "      <td>.jpg</td>\n",
       "      <td>anger0.jpg</td>\n",
       "    </tr>\n",
       "    <tr>\n",
       "      <th>2</th>\n",
       "      <td>2</td>\n",
       "      <td>2</td>\n",
       "      <td>anger/image0000061.jpg</td>\n",
       "      <td>anger</td>\n",
       "      <td>0.800957</td>\n",
       "      <td>anger1</td>\n",
       "      <td>.jpg</td>\n",
       "      <td>anger1.jpg</td>\n",
       "    </tr>\n",
       "    <tr>\n",
       "      <th>4</th>\n",
       "      <td>4</td>\n",
       "      <td>4</td>\n",
       "      <td>anger/image0000106.jpg</td>\n",
       "      <td>anger</td>\n",
       "      <td>0.849108</td>\n",
       "      <td>anger2</td>\n",
       "      <td>.jpg</td>\n",
       "      <td>anger2.jpg</td>\n",
       "    </tr>\n",
       "    <tr>\n",
       "      <th>5</th>\n",
       "      <td>5</td>\n",
       "      <td>5</td>\n",
       "      <td>anger/image0000132.jpg</td>\n",
       "      <td>anger</td>\n",
       "      <td>0.819448</td>\n",
       "      <td>anger3</td>\n",
       "      <td>.jpg</td>\n",
       "      <td>anger3.jpg</td>\n",
       "    </tr>\n",
       "  </tbody>\n",
       "</table>\n",
       "</div>"
      ],
      "text/plain": [
       "   Unnamed: 0.1  Unnamed: 0                     pth     label    relFCs  \\\n",
       "0             0           0  anger/image0000006.jpg  surprise  0.873142   \n",
       "1             1           1  anger/image0000060.jpg     anger  0.852311   \n",
       "2             2           2  anger/image0000061.jpg     anger  0.800957   \n",
       "4             4           4  anger/image0000106.jpg     anger  0.849108   \n",
       "5             5           5  anger/image0000132.jpg     anger  0.819448   \n",
       "\n",
       "  new_file_name   ext new_file_name.1  \n",
       "0     surprise0  .jpg   surprise0.jpg  \n",
       "1        anger0  .jpg      anger0.jpg  \n",
       "2        anger1  .jpg      anger1.jpg  \n",
       "4        anger2  .jpg      anger2.jpg  \n",
       "5        anger3  .jpg      anger3.jpg  "
      ]
     },
     "execution_count": 5,
     "metadata": {},
     "output_type": "execute_result"
    }
   ],
   "source": [
    "subset = new_labels[new_labels['label'].isin(['anger', 'happy', 'sad', 'surprise'])]\n",
    "subset.head()"
   ]
  },
  {
   "cell_type": "code",
   "execution_count": 8,
   "metadata": {},
   "outputs": [
    {
     "data": {
      "text/html": [
       "<div>\n",
       "<style scoped>\n",
       "    .dataframe tbody tr th:only-of-type {\n",
       "        vertical-align: middle;\n",
       "    }\n",
       "\n",
       "    .dataframe tbody tr th {\n",
       "        vertical-align: top;\n",
       "    }\n",
       "\n",
       "    .dataframe thead th {\n",
       "        text-align: right;\n",
       "    }\n",
       "</style>\n",
       "<table border=\"1\" class=\"dataframe\">\n",
       "  <thead>\n",
       "    <tr style=\"text-align: right;\">\n",
       "      <th></th>\n",
       "      <th>label</th>\n",
       "      <th>new_file_name</th>\n",
       "      <th>new_file_name.1</th>\n",
       "    </tr>\n",
       "  </thead>\n",
       "  <tbody>\n",
       "    <tr>\n",
       "      <th>0</th>\n",
       "      <td>surprise</td>\n",
       "      <td>surprise0</td>\n",
       "      <td>surprise0.jpg</td>\n",
       "    </tr>\n",
       "    <tr>\n",
       "      <th>1</th>\n",
       "      <td>anger</td>\n",
       "      <td>anger0</td>\n",
       "      <td>anger0.jpg</td>\n",
       "    </tr>\n",
       "    <tr>\n",
       "      <th>2</th>\n",
       "      <td>anger</td>\n",
       "      <td>anger1</td>\n",
       "      <td>anger1.jpg</td>\n",
       "    </tr>\n",
       "    <tr>\n",
       "      <th>4</th>\n",
       "      <td>anger</td>\n",
       "      <td>anger2</td>\n",
       "      <td>anger2.jpg</td>\n",
       "    </tr>\n",
       "    <tr>\n",
       "      <th>5</th>\n",
       "      <td>anger</td>\n",
       "      <td>anger3</td>\n",
       "      <td>anger3.jpg</td>\n",
       "    </tr>\n",
       "  </tbody>\n",
       "</table>\n",
       "</div>"
      ],
      "text/plain": [
       "      label new_file_name new_file_name.1\n",
       "0  surprise     surprise0   surprise0.jpg\n",
       "1     anger        anger0      anger0.jpg\n",
       "2     anger        anger1      anger1.jpg\n",
       "4     anger        anger2      anger2.jpg\n",
       "5     anger        anger3      anger3.jpg"
      ]
     },
     "execution_count": 8,
     "metadata": {},
     "output_type": "execute_result"
    }
   ],
   "source": [
    "subset = subset.drop(['Unnamed: 0.1','Unnamed: 0','pth', 'relFCs', 'ext'], axis = 1)\n",
    "subset.head()"
   ]
  },
  {
   "cell_type": "code",
   "execution_count": 9,
   "metadata": {},
   "outputs": [
    {
     "data": {
      "text/plain": [
       "(3111, 3)"
      ]
     },
     "execution_count": 9,
     "metadata": {},
     "output_type": "execute_result"
    }
   ],
   "source": [
    "val_set = subset.sample(n=3111)\n",
    "val_set.shape"
   ]
  },
  {
   "cell_type": "code",
   "execution_count": 11,
   "metadata": {},
   "outputs": [
    {
     "data": {
      "text/plain": [
       "(12444, 3)"
      ]
     },
     "execution_count": 11,
     "metadata": {},
     "output_type": "execute_result"
    }
   ],
   "source": [
    "subset = subset.drop(val_set.index)\n",
    "subset.shape"
   ]
  },
  {
   "cell_type": "code",
   "execution_count": 29,
   "metadata": {},
   "outputs": [
    {
     "data": {
      "text/html": [
       "<div>\n",
       "<style scoped>\n",
       "    .dataframe tbody tr th:only-of-type {\n",
       "        vertical-align: middle;\n",
       "    }\n",
       "\n",
       "    .dataframe tbody tr th {\n",
       "        vertical-align: top;\n",
       "    }\n",
       "\n",
       "    .dataframe thead th {\n",
       "        text-align: right;\n",
       "    }\n",
       "</style>\n",
       "<table border=\"1\" class=\"dataframe\">\n",
       "  <thead>\n",
       "    <tr style=\"text-align: right;\">\n",
       "      <th></th>\n",
       "      <th>index</th>\n",
       "      <th>label</th>\n",
       "      <th>new_file_name</th>\n",
       "      <th>file_name</th>\n",
       "    </tr>\n",
       "  </thead>\n",
       "  <tbody>\n",
       "    <tr>\n",
       "      <th>0</th>\n",
       "      <td>0</td>\n",
       "      <td>surprise</td>\n",
       "      <td>surprise0</td>\n",
       "      <td>surprise0.jpg</td>\n",
       "    </tr>\n",
       "    <tr>\n",
       "      <th>1</th>\n",
       "      <td>1</td>\n",
       "      <td>anger</td>\n",
       "      <td>anger0</td>\n",
       "      <td>anger0.jpg</td>\n",
       "    </tr>\n",
       "    <tr>\n",
       "      <th>2</th>\n",
       "      <td>2</td>\n",
       "      <td>anger</td>\n",
       "      <td>anger1</td>\n",
       "      <td>anger1.jpg</td>\n",
       "    </tr>\n",
       "    <tr>\n",
       "      <th>3</th>\n",
       "      <td>4</td>\n",
       "      <td>anger</td>\n",
       "      <td>anger2</td>\n",
       "      <td>anger2.jpg</td>\n",
       "    </tr>\n",
       "    <tr>\n",
       "      <th>4</th>\n",
       "      <td>6</td>\n",
       "      <td>anger</td>\n",
       "      <td>anger4</td>\n",
       "      <td>anger4.jpg</td>\n",
       "    </tr>\n",
       "  </tbody>\n",
       "</table>\n",
       "</div>"
      ],
      "text/plain": [
       "   index     label new_file_name      file_name\n",
       "0      0  surprise     surprise0  surprise0.jpg\n",
       "1      1     anger        anger0     anger0.jpg\n",
       "2      2     anger        anger1     anger1.jpg\n",
       "3      4     anger        anger2     anger2.jpg\n",
       "4      6     anger        anger4     anger4.jpg"
      ]
     },
     "execution_count": 29,
     "metadata": {},
     "output_type": "execute_result"
    }
   ],
   "source": [
    "subset = subset.rename(columns={\"new_file_name.1\": \"file_name\"})\n",
    "subset.head()"
   ]
  },
  {
   "cell_type": "code",
   "execution_count": 28,
   "metadata": {},
   "outputs": [
    {
     "data": {
      "text/html": [
       "<div>\n",
       "<style scoped>\n",
       "    .dataframe tbody tr th:only-of-type {\n",
       "        vertical-align: middle;\n",
       "    }\n",
       "\n",
       "    .dataframe tbody tr th {\n",
       "        vertical-align: top;\n",
       "    }\n",
       "\n",
       "    .dataframe thead th {\n",
       "        text-align: right;\n",
       "    }\n",
       "</style>\n",
       "<table border=\"1\" class=\"dataframe\">\n",
       "  <thead>\n",
       "    <tr style=\"text-align: right;\">\n",
       "      <th></th>\n",
       "      <th>index</th>\n",
       "      <th>label</th>\n",
       "      <th>new_file_name</th>\n",
       "      <th>file_name</th>\n",
       "    </tr>\n",
       "  </thead>\n",
       "  <tbody>\n",
       "    <tr>\n",
       "      <th>0</th>\n",
       "      <td>20172</td>\n",
       "      <td>surprise</td>\n",
       "      <td>surprise1539</td>\n",
       "      <td>surprise1539.png</td>\n",
       "    </tr>\n",
       "    <tr>\n",
       "      <th>1</th>\n",
       "      <td>14164</td>\n",
       "      <td>happy</td>\n",
       "      <td>happy2604</td>\n",
       "      <td>happy2604.png</td>\n",
       "    </tr>\n",
       "    <tr>\n",
       "      <th>2</th>\n",
       "      <td>18428</td>\n",
       "      <td>surprise</td>\n",
       "      <td>surprise1302</td>\n",
       "      <td>surprise1302.png</td>\n",
       "    </tr>\n",
       "    <tr>\n",
       "      <th>3</th>\n",
       "      <td>26747</td>\n",
       "      <td>surprise</td>\n",
       "      <td>surprise3612</td>\n",
       "      <td>surprise3612.jpg</td>\n",
       "    </tr>\n",
       "    <tr>\n",
       "      <th>4</th>\n",
       "      <td>5811</td>\n",
       "      <td>sad</td>\n",
       "      <td>sad199</td>\n",
       "      <td>sad199.png</td>\n",
       "    </tr>\n",
       "  </tbody>\n",
       "</table>\n",
       "</div>"
      ],
      "text/plain": [
       "   index     label new_file_name         file_name\n",
       "0  20172  surprise  surprise1539  surprise1539.png\n",
       "1  14164     happy     happy2604     happy2604.png\n",
       "2  18428  surprise  surprise1302  surprise1302.png\n",
       "3  26747  surprise  surprise3612  surprise3612.jpg\n",
       "4   5811       sad        sad199        sad199.png"
      ]
     },
     "execution_count": 28,
     "metadata": {},
     "output_type": "execute_result"
    }
   ],
   "source": [
    "val_set = val_set.rename(columns={\"new_file_name.1\": \"file_name\"})\n",
    "val_set.head()"
   ]
  },
  {
   "cell_type": "code",
   "execution_count": 20,
   "metadata": {},
   "outputs": [],
   "source": [
    "val_set = val_set.reset_index()\n",
    "subset = subset.reset_index()"
   ]
  },
  {
   "cell_type": "code",
   "execution_count": 23,
   "metadata": {},
   "outputs": [
    {
     "data": {
      "text/plain": [
       "'anger2866.png'"
      ]
     },
     "execution_count": 23,
     "metadata": {},
     "output_type": "execute_result"
    }
   ],
   "source": [
    "val_set['new_file_name.1'][100]"
   ]
  },
  {
   "cell_type": "code",
   "execution_count": 31,
   "metadata": {},
   "outputs": [],
   "source": [
    "#val set\n",
    "source = '/Users/ekurenty/code/ekurenty/visvis_data/all_new_data_copy/'\n",
    "val_image = '/Users/ekurenty/code/ekurenty/visvis_data/four_expressions/images/val'\n",
    "\n",
    "for i in range(val_set.shape[0]):\n",
    "    shutil.move(f'{source}{val_set.file_name[i]}', val_image)"
   ]
  },
  {
   "cell_type": "code",
   "execution_count": 32,
   "metadata": {},
   "outputs": [],
   "source": [
    "#train set\n",
    "source = '/Users/ekurenty/code/ekurenty/visvis_data/all_new_data_copy/'\n",
    "train_image = '/Users/ekurenty/code/ekurenty/visvis_data/four_expressions/images/train'\n",
    "\n",
    "for i in range(subset.shape[0]):\n",
    "    shutil.move(f'{source}{subset.file_name[i]}', train_image)"
   ]
  },
  {
   "cell_type": "code",
   "execution_count": 33,
   "metadata": {},
   "outputs": [],
   "source": [
    "emo_dict = {\n",
    "    'anger': 0,\n",
    "    'happy': 1,\n",
    "    'sad': 2,\n",
    "    'surprise': 3,\n",
    "}"
   ]
  },
  {
   "cell_type": "code",
   "execution_count": null,
   "metadata": {},
   "outputs": [],
   "source": [
    "import os\n",
    "\n",
    "emo_list = ['anger', 'happy', 'sad', 'surprise']\n",
    "\n",
    "for emotion in emo_list:\n",
    "    image_path = f\"/Users/ekurenty/code/ekurenty/Final Project/data/images/{emotion}\"\n",
    "    for i in os.listdir(image_path):\n",
    "        f = open(f'{image_path}/{i}.txt','x')\n",
    "        f.write(f'{emo_list.index(emotion)} 0.500000 0.500000 1.000000 1.000000')\n",
    "        f.close()"
   ]
  }
 ],
 "metadata": {
  "kernelspec": {
   "display_name": "visage_vision",
   "language": "python",
   "name": "python3"
  },
  "language_info": {
   "codemirror_mode": {
    "name": "ipython",
    "version": 3
   },
   "file_extension": ".py",
   "mimetype": "text/x-python",
   "name": "python",
   "nbconvert_exporter": "python",
   "pygments_lexer": "ipython3",
   "version": "3.10.6"
  }
 },
 "nbformat": 4,
 "nbformat_minor": 2
}
