{
 "cells": [
  {
   "cell_type": "code",
   "execution_count": null,
   "metadata": {},
   "outputs": [],
   "source": [
    "import os"
   ]
  },
  {
   "cell_type": "code",
   "execution_count": null,
   "metadata": {},
   "outputs": [],
   "source": [
    "# Looping through the emotion files and then looping through all the image files in each to create a text file with the same name\n",
    "# Each text file includes the emotion label and the object box coordinates, which in our case is the whole box\n",
    "\n",
    "\n",
    "filename = ['anger', 'contempt', 'disgust', 'fear', 'happy', 'neutral', 'sad', 'surprise']\n",
    "for emotion in filename:\n",
    "    image_path = f\"/Users/ekurenty/code/ekurenty/Final Project/data/images/{emotion}\"\n",
    "    for i in os.listdir(image_path):\n",
    "        f = open(f'{image_path}/{i}.txt','x')\n",
    "        f.write(f'{filename.index(emotion)} 0.500000 0.500000 1.000000 1.000000')\n",
    "        f.close()\n",
    "\n",
    "# This resulted in txt files ending in .jpg.txt and png.txt, these were batch renamed to resolve"
   ]
  }
 ],
 "metadata": {
  "language_info": {
   "name": "python"
  }
 },
 "nbformat": 4,
 "nbformat_minor": 2
}
